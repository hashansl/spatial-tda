{
 "cells": [
  {
   "cell_type": "markdown",
   "id": "0",
   "metadata": {},
   "source": [
    "## **Introducing the spatial-tda Python package for Spatial Topological Data Analysis**\n",
    "\n",
    "Uncomment the following line to install **spatial-tda** if needed."
   ]
  },
  {
   "cell_type": "code",
   "execution_count": null,
   "id": "2",
   "metadata": {},
   "outputs": [],
   "source": [
    "# !pip install spatial-tda"
   ]
  },
  {
   "cell_type": "markdown",
   "id": "cdafc254",
   "metadata": {},
   "source": [
    "Currently, this package only supports spatial datasets with polygonal geometries, as the adjacency module is designed to rely on shared boundaries between polygons to construct adjacency simplicial complexes. This structure is essential for accurately capturing spatial relationships and computing topological summaries. Datasets containing point or line geometries are not compatible, as they lack the necessary boundary-sharing properties required for the adjacency-based analysis.\n",
    "\n",
    "- `import spatial_tda as tda`"
   ]
  },
  {
   "cell_type": "markdown",
   "id": "55be0e31",
   "metadata": {},
   "source": [
    "### **Module Overview**\n",
    "\n",
    "  - **Adjacency Simplex**: Construct adjacency simplicial complexes from polygonal datasets.\n",
    "    - **Topological Summaries**: Compute topological summaries for simplicial complexes.\n",
    "  - **Future Work**: Extend the package to support point and line geometries.\n"
   ]
  }
 ],
 "metadata": {
  "kernelspec": {
   "display_name": "Python 3",
   "language": "python",
   "name": "python3"
  }
 },
 "nbformat": 4,
 "nbformat_minor": 5
}
