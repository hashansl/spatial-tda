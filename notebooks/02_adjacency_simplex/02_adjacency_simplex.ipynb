{
 "cells": [
  {
   "cell_type": "markdown",
   "id": "0",
   "metadata": {},
   "source": [
    "# Adjacency Simplicial Complex Module\n",
    "\n",
    "You can try out spatial-tda by using the cloud-computing platforms below without having to install anything on your computer:\n",
    "\n",
    "<!-- [![image](https://colab.research.google.com/assets/colab-badge.svg)](https://colab.research.google.com/github/opengeos/leafmap/blob/master) -->"
   ]
  },
  {
   "cell_type": "markdown",
   "id": "1",
   "metadata": {},
   "source": [
    "## Installation\n",
    "\n",
    "To install spatial_tda, use:"
   ]
  },
  {
   "cell_type": "code",
   "execution_count": 1,
   "id": "2",
   "metadata": {},
   "outputs": [],
   "source": [
    "# !pip install -U spatial-tda"
   ]
  },
  {
   "cell_type": "markdown",
   "id": "42e2b2b1",
   "metadata": {},
   "source": [
    "## Import Libraries"
   ]
  },
  {
   "cell_type": "code",
   "execution_count": 2,
   "id": "d767f741",
   "metadata": {},
   "outputs": [],
   "source": [
    "import geopandas as gpd\n",
    "import matplotlib.pyplot as plt"
   ]
  },
  {
   "cell_type": "markdown",
   "id": "a8133865",
   "metadata": {},
   "source": [
    "## Import Geospatial Data for the Analysis"
   ]
  },
  {
   "cell_type": "code",
   "execution_count": 14,
   "id": "13262194",
   "metadata": {},
   "outputs": [],
   "source": [
    "# arlington_svi = gpd.read_file(\"https://github.com/hashansl/spatial-tda/tree/main/docs/data/Arlington_SVI2018.gdb\")"
   ]
  },
  {
   "cell_type": "code",
   "execution_count": 4,
   "id": "66ed18ee",
   "metadata": {},
   "outputs": [
    {
     "data": {
      "text/html": [
       "<div>\n",
       "<style scoped>\n",
       "    .dataframe tbody tr th:only-of-type {\n",
       "        vertical-align: middle;\n",
       "    }\n",
       "\n",
       "    .dataframe tbody tr th {\n",
       "        vertical-align: top;\n",
       "    }\n",
       "\n",
       "    .dataframe thead th {\n",
       "        text-align: right;\n",
       "    }\n",
       "</style>\n",
       "<table border=\"1\" class=\"dataframe\">\n",
       "  <thead>\n",
       "    <tr style=\"text-align: right;\">\n",
       "      <th></th>\n",
       "      <th>FIPS</th>\n",
       "      <th>EP_POV</th>\n",
       "      <th>EP_UNEMP</th>\n",
       "      <th>EP_PCI</th>\n",
       "      <th>EP_NOHSDP</th>\n",
       "      <th>EP_UNINSUR</th>\n",
       "      <th>EP_AGE65</th>\n",
       "      <th>EP_AGE17</th>\n",
       "      <th>EP_DISABL</th>\n",
       "      <th>EP_SNGPNT</th>\n",
       "      <th>EP_LIMENG</th>\n",
       "      <th>EP_MINRTY</th>\n",
       "      <th>EP_MUNIT</th>\n",
       "      <th>EP_MOBILE</th>\n",
       "      <th>EP_CROWD</th>\n",
       "      <th>EP_NOVEH</th>\n",
       "      <th>EP_GROUPQ</th>\n",
       "      <th>geometry</th>\n",
       "    </tr>\n",
       "  </thead>\n",
       "  <tbody>\n",
       "    <tr>\n",
       "      <th>0</th>\n",
       "      <td>51013100100</td>\n",
       "      <td>1.2</td>\n",
       "      <td>2.1</td>\n",
       "      <td>76748.0</td>\n",
       "      <td>1.4</td>\n",
       "      <td>1.9</td>\n",
       "      <td>13.6</td>\n",
       "      <td>29.6</td>\n",
       "      <td>5.7</td>\n",
       "      <td>6.4</td>\n",
       "      <td>2.3</td>\n",
       "      <td>23.4</td>\n",
       "      <td>0.5</td>\n",
       "      <td>0.0</td>\n",
       "      <td>0.0</td>\n",
       "      <td>0.6</td>\n",
       "      <td>0.2</td>\n",
       "      <td>POLYGON ((-77.16811 38.89652, -77.16421 38.899...</td>\n",
       "    </tr>\n",
       "    <tr>\n",
       "      <th>1</th>\n",
       "      <td>51013100200</td>\n",
       "      <td>1.5</td>\n",
       "      <td>2.0</td>\n",
       "      <td>94706.0</td>\n",
       "      <td>0.1</td>\n",
       "      <td>1.9</td>\n",
       "      <td>15.9</td>\n",
       "      <td>29.9</td>\n",
       "      <td>4.9</td>\n",
       "      <td>2.3</td>\n",
       "      <td>2.5</td>\n",
       "      <td>14.4</td>\n",
       "      <td>0.7</td>\n",
       "      <td>0.0</td>\n",
       "      <td>0.0</td>\n",
       "      <td>2.0</td>\n",
       "      <td>0.1</td>\n",
       "      <td>POLYGON ((-77.15968 38.90315, -77.15454 38.907...</td>\n",
       "    </tr>\n",
       "  </tbody>\n",
       "</table>\n",
       "</div>"
      ],
      "text/plain": [
       "          FIPS  EP_POV  EP_UNEMP   EP_PCI  EP_NOHSDP  EP_UNINSUR  EP_AGE65  \\\n",
       "0  51013100100     1.2       2.1  76748.0        1.4         1.9      13.6   \n",
       "1  51013100200     1.5       2.0  94706.0        0.1         1.9      15.9   \n",
       "\n",
       "   EP_AGE17  EP_DISABL  EP_SNGPNT  EP_LIMENG  EP_MINRTY  EP_MUNIT  EP_MOBILE  \\\n",
       "0      29.6        5.7        6.4        2.3       23.4       0.5        0.0   \n",
       "1      29.9        4.9        2.3        2.5       14.4       0.7        0.0   \n",
       "\n",
       "   EP_CROWD  EP_NOVEH  EP_GROUPQ  \\\n",
       "0       0.0       0.6        0.2   \n",
       "1       0.0       2.0        0.1   \n",
       "\n",
       "                                            geometry  \n",
       "0  POLYGON ((-77.16811 38.89652, -77.16421 38.899...  \n",
       "1  POLYGON ((-77.15968 38.90315, -77.15454 38.907...  "
      ]
     },
     "execution_count": 4,
     "metadata": {},
     "output_type": "execute_result"
    }
   ],
   "source": [
    "arlington_svi.head(2)"
   ]
  },
  {
   "cell_type": "code",
   "execution_count": 5,
   "id": "57c42136",
   "metadata": {},
   "outputs": [
    {
     "data": {
      "image/png": "[encoded data removed]",
      "text/plain": [
       "<Figure size 640x480 with 2 Axes>"
      ]
     },
     "metadata": {},
     "output_type": "display_data"
    }
   ],
   "source": [
    "# plot the data for EP_POV in a geopandas plot\n",
    "arlington_svi.plot(column='EP_POV', legend=True)\n",
    "plt.show()"
   ]
  },
  {
   "cell_type": "markdown",
   "id": "61080fd4",
   "metadata": {},
   "source": [
    "## Adjacency Simplicial Complex Module\n",
    "\n",
    "The adjacency module provides tools for constructing adjacency-based simplicial complexes and extracting relevant topological summaries.\n",
    "\n",
    "### Key Features\n",
    "\n",
    "- Constructing adjacency-based simplicial complexes\n",
    "- Extracting topological summaries\n",
    "- Visualizing simplicial complexes (Under development)"
   ]
  },
  {
   "cell_type": "code",
   "execution_count": 6,
   "id": "6eff3837",
   "metadata": {},
   "outputs": [],
   "source": [
    "# import the library\n",
    "import spatial_tda as tda"
   ]
  },
  {
   "cell_type": "markdown",
   "id": "a7c1d7b6",
   "metadata": {},
   "source": [
    "### Create the Adjacency Simplicial Complex Object from the Geospatial Data"
   ]
  },
  {
   "cell_type": "code",
   "execution_count": 7,
   "id": "499dd389",
   "metadata": {},
   "outputs": [],
   "source": [
    "adjacency_simplex = tda.AdjacencySimplex(geo_dataframe=arlington_svi, variable = \"EP_POV\", threshold=None, filter_method='up')"
   ]
  },
  {
   "cell_type": "markdown",
   "id": "7dc891a0",
   "metadata": {},
   "source": [
    "### Filter and sort the Variable"
   ]
  },
  {
   "cell_type": "code",
   "execution_count": 8,
   "id": "da4bbeee",
   "metadata": {},
   "outputs": [],
   "source": [
    "adjacency_simplex.filter_sort_gdf()"
   ]
  },
  {
   "cell_type": "markdown",
   "id": "15143aaa",
   "metadata": {},
   "source": [
    "### Calculate the Adjacent Counties/Census Tracts"
   ]
  },
  {
   "cell_type": "code",
   "execution_count": 9,
   "id": "ad0ab2b5",
   "metadata": {},
   "outputs": [],
   "source": [
    "adjacency_simplex.calculate_adjacent_countries()"
   ]
  },
  {
   "cell_type": "markdown",
   "id": "1745c998",
   "metadata": {},
   "source": [
    "### Create the Simplicial Complex using the Adjacency Matrix"
   ]
  },
  {
   "cell_type": "code",
   "execution_count": 10,
   "id": "434a59ff",
   "metadata": {},
   "outputs": [],
   "source": [
    "adjacency_simplex.form_simplicial_complex()"
   ]
  },
  {
   "cell_type": "markdown",
   "id": "114646bd",
   "metadata": {},
   "source": [
    "### Calculate the Persistent Homology and get the TDA summary for the study area(Arlington County, VA)"
   ]
  },
  {
   "cell_type": "code",
   "execution_count": 11,
   "id": "bb71bf04",
   "metadata": {},
   "outputs": [],
   "source": [
    "summaries = adjacency_simplex.compute_persistence()"
   ]
  },
  {
   "cell_type": "code",
   "execution_count": 12,
   "id": "876e63ce",
   "metadata": {},
   "outputs": [
    {
     "name": "stdout",
     "output_type": "stream",
     "text": [
      "{'H0': 57, 'TL': 435.9000000000001, 'AL': 7.647368421052633, 'TML': 217.95000000000005, 'AML': 3.8236842105263165}\n"
     ]
    }
   ],
   "source": [
    "print(summaries)"
   ]
  }
 ],
 "metadata": {
  "kernelspec": {
   "display_name": "pymc_env",
   "language": "python",
   "name": "python3"
  },
  "language_info": {
   "codemirror_mode": {
    "name": "ipython",
    "version": 3
   },
   "file_extension": ".py",
   "mimetype": "text/x-python",
   "name": "python",
   "nbconvert_exporter": "python",
   "pygments_lexer": "ipython3",
   "version": "3.12.8"
  }
 },
 "nbformat": 4,
 "nbformat_minor": 5
}
