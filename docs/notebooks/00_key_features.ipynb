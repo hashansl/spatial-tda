{
 "cells": [
  {
   "cell_type": "markdown",
   "id": "0",
   "metadata": {},
   "source": [
    "# Key Features\n",
    "\n",
    "This page is updating. \n",
    "Navigate to notebooks for more information.\n",
    "\n",
    "<!-- You can try out spatial-tda by using the cloud-computing platforms below without having to install anything on your computer: -->\n",
    "\n",
    "<!-- [![image](https://colab.research.google.com/assets/colab-badge.svg)](https://colab.research.google.com/github/opengeos/leafmap/blob/master) -->"
   ]
  },
  {
   "cell_type": "markdown",
   "id": "1",
   "metadata": {},
   "source": [
    "## Extracting Topological Features from Spatial Data"
   ]
  },
  {
   "cell_type": "code",
   "execution_count": null,
   "id": "d04efe15",
   "metadata": {},
   "outputs": [],
   "source": []
  },
  {
   "cell_type": "markdown",
   "id": "3cbc736a",
   "metadata": {},
   "source": [
    "## Visualizing Adjacency Simplicial Complexes in Maps"
   ]
  },
  {
   "cell_type": "markdown",
   "id": "cc09b301",
   "metadata": {},
   "source": [
    "<!-- [![image](https://raw.githubusercontent.com/hashansl/spatial-tda/main/docs/assets/example_img/tn_adj.png)](https://raw.githubusercontent.com/hashansl/spatial-tda/main/docs/assets/example_img/tn_adj.png) -->"
   ]
  },
  {
   "cell_type": "markdown",
   "id": "e9dea384",
   "metadata": {},
   "source": []
  }
 ],
 "metadata": {
  "kernelspec": {
   "display_name": "pymc_env",
   "language": "python",
   "name": "python3"
  },
  "language_info": {
   "codemirror_mode": {
    "name": "ipython",
    "version": 3
   },
   "file_extension": ".py",
   "mimetype": "text/x-python",
   "name": "python",
   "nbconvert_exporter": "python",
   "pygments_lexer": "ipython3",
   "version": "3.12.8"
  }
 },
 "nbformat": 4,
 "nbformat_minor": 5
}
