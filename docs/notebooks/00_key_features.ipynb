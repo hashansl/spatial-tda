{
 "cells": [
  {
   "cell_type": "markdown",
   "id": "0",
   "metadata": {},
   "source": [
    "# Key Features\n",
    "\n",
    "You can try out spatial-tda by using the cloud-computing platforms below without having to install anything on your computer:\n",
    "\n",
    "<!-- [![image](https://colab.research.google.com/assets/colab-badge.svg)](https://colab.research.google.com/github/opengeos/leafmap/blob/master) -->"
   ]
  },
  {
   "cell_type": "markdown",
   "id": "1",
   "metadata": {},
   "source": [
    "## Extracting Topological Features from Spatial Data"
   ]
  },
  {
   "cell_type": "code",
   "execution_count": null,
   "id": "d04efe15",
   "metadata": {},
   "outputs": [],
   "source": []
  },
  {
   "cell_type": "markdown",
   "id": "3cbc736a",
   "metadata": {},
   "source": [
    "## Visualizing Adjacency Simplicial Complexes in Maps"
   ]
  },
  {
   "cell_type": "markdown",
   "id": "cc09b301",
   "metadata": {},
   "source": [
    "[![image](https://raw.githubusercontent.com/hashansl/spatial-tda/main/docs/assets/example_img/tn_adj.png)](https://raw.githubusercontent.com/hashansl/spatial-tda/main/docs/assets/example_img/tn_adj.png)"
   ]
  },
  {
   "cell_type": "markdown",
   "id": "e9dea384",
   "metadata": {},
   "source": []
  }
 ],
 "metadata": {
  "kernelspec": {
   "display_name": "Python 3",
   "language": "python",
   "name": "python3"
  }
 },
 "nbformat": 4,
 "nbformat_minor": 5
}
